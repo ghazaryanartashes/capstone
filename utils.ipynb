{
 "cells": [
  {
   "cell_type": "code",
   "execution_count": 1,
   "metadata": {},
   "outputs": [],
   "source": [
    "def filter_meetings(df, thresh, others=True):    \n",
    "    a = df[df.groupby('Meeting')['Meeting'].transform('size') > thresh]\n",
    "    if others:\n",
    "        b = df[df.groupby('Meeting')['Meeting'].transform('size') <= thresh]\n",
    "        b['Meeting'] = 'Other'\n",
    "        c = pd.concat([a,b])\n",
    "        return c\n",
    "    return a"
   ]
  },
  {
   "cell_type": "code",
   "execution_count": null,
   "metadata": {},
   "outputs": [],
   "source": []
  }
 ],
 "metadata": {
  "kernelspec": {
   "display_name": "Python 3",
   "language": "python",
   "name": "python3"
  },
  "language_info": {
   "codemirror_mode": {
    "name": "ipython",
    "version": 3
   },
   "file_extension": ".py",
   "mimetype": "text/x-python",
   "name": "python",
   "nbconvert_exporter": "python",
   "pygments_lexer": "ipython3",
   "version": "3.7.3"
  }
 },
 "nbformat": 4,
 "nbformat_minor": 4
}
